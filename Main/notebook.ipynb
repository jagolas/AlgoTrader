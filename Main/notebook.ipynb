{
 "metadata": {
  "language_info": {
   "codemirror_mode": {
    "name": "ipython",
    "version": 3
   },
   "file_extension": ".py",
   "mimetype": "text/x-python",
   "name": "python",
   "nbconvert_exporter": "python",
   "pygments_lexer": "ipython3",
   "version": "3.8.3-final"
  },
  "orig_nbformat": 2,
  "kernelspec": {
   "name": "python3",
   "display_name": "Python 3"
  }
 },
 "nbformat": 4,
 "nbformat_minor": 2,
 "cells": [
  {
   "cell_type": "code",
   "execution_count": null,
   "metadata": {},
   "outputs": [],
   "source": [
    "import numpy as np\n",
    "import matplotlib.pyplot as plt\n",
    "import math\n",
    "import pandas_datareader.data as web\n",
    "import datetime as dt\n",
    "import mplfinance as mpf\n",
    "from mplfinance import original_flavor\n",
    "import btalib\n",
    "import talib\n",
    "import MetaTrader5 as mt5\n",
    "#importing my own libraries\n",
    "import Functions as f\n",
    "import Strategies as s"
   ]
  },
  {
   "cell_type": "code",
   "execution_count": null,
   "metadata": {},
   "outputs": [],
   "source": [
    "\n",
    "df = f.get_data(months=50)\n",
    "df = f.get_indicators(df)\n",
    "df = f.signal_to_position(df,'engulfing')#,side='long')\n",
    "# f.plot_signal(df,'position',lines=True, marker=7)\n",
    "# position = f.backtest(df,'position')\n",
    "f.plot_backtest(df, position='position',leverage=3)"
   ]
  },
  {
   "cell_type": "code",
   "execution_count": null,
   "metadata": {},
   "outputs": [],
   "source": []
  }
 ]
}