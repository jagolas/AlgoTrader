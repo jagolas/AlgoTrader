{
 "metadata": {
  "language_info": {
   "codemirror_mode": {
    "name": "ipython",
    "version": 3
   },
   "file_extension": ".py",
   "mimetype": "text/x-python",
   "name": "python",
   "nbconvert_exporter": "python",
   "pygments_lexer": "ipython3",
   "version": "3.8.3-final"
  },
  "orig_nbformat": 2,
  "kernelspec": {
   "name": "python3",
   "display_name": "Python 3"
  }
 },
 "nbformat": 4,
 "nbformat_minor": 2,
 "cells": [
  {
   "source": [
    "To run talib library you'll need to do it locally (not cloud)\n",
    "To install talib: https://blog.quantinsti.com/install-ta-lib-python/"
   ],
   "cell_type": "markdown",
   "metadata": {}
  },
  {
   "cell_type": "code",
   "execution_count": 1,
   "metadata": {},
   "outputs": [],
   "source": [
    "#numerical and well known libraries:\n",
    "import numpy as np\n",
    "import matplotlib.pyplot as plt\n",
    "import math\n",
    "import datetime as dt\n",
    "\n",
    "#library for charts\n",
    "import mplfinance as mpf\n",
    "from mplfinance import original_flavor\n",
    "\n",
    "#libraries for technical analysis\n",
    "import btalib\n",
    "import talib\n",
    "\n",
    "#for metatrader integration:\n",
    "import MetaTrader5 as mt5\n",
    "\n",
    "#importing my own libraries:\n",
    "import Functions as f\n",
    "import Strategies as s"
   ]
  },
  {
   "source": [
    "## Functions: get data\n",
    "they're made to download financial data"
   ],
   "cell_type": "markdown",
   "metadata": {}
  },
  {
   "source": [
    "the following 2 do the same:\n",
    "download and DataFrame daily data from yahooFinance\n",
    "- The firstone uses pandas_datareader library, and has other sources also (look for pandas datareader documentation)\n",
    "- The second one uses only pandas, and has the capability to get data ONLY from yahoo"
   ],
   "cell_type": "markdown",
   "metadata": {}
  },
  {
   "cell_type": "code",
   "execution_count": 2,
   "metadata": {},
   "outputs": [
    {
     "output_type": "stream",
     "name": "stdout",
     "text": [
      "             symbol          Open          High           Low         Close  \\\nDate                                                                          \n2019-11-09  BTC-USD   8809.468750   8891.818359   8793.163086   8813.582031   \n2019-11-10  BTC-USD   8812.489258   9103.826172   8806.162109   9055.526367   \n2019-11-11  BTC-USD   9056.917969   9081.279297   8700.608398   8757.788086   \n2019-11-12  BTC-USD   8759.751953   8853.768555   8685.427734   8815.662109   \n2019-11-13  BTC-USD   8812.033203   8836.841797   8761.651367   8808.262695   \n...             ...           ...           ...           ...           ...   \n2020-10-29  BTC-USD  13271.298828  13612.047852  12980.059570  13437.882812   \n2020-10-30  BTC-USD  13437.874023  13651.516602  13136.198242  13546.522461   \n2020-10-31  BTC-USD  13546.532227  14028.213867  13457.530273  13780.995117   \n2020-11-01  BTC-USD  13780.995117  13862.033203  13628.377930  13737.109375   \n2020-11-03  BTC-USD  13507.269531  13769.055664  13335.282227  13723.362305   \n\n               Adj Close        Volume  \nDate                                    \n2019-11-09   8813.582031  1.757863e+10  \n2019-11-10   9055.526367  2.058792e+10  \n2019-11-11   8757.788086  2.026551e+10  \n2019-11-12   8815.662109  2.030977e+10  \n2019-11-13   8808.262695  1.754576e+10  \n...                  ...           ...  \n2020-10-29  13437.882812  5.649950e+10  \n2020-10-30  13546.522461  3.058149e+10  \n2020-10-31  13780.995117  3.030646e+10  \n2020-11-01  13737.109375  2.445386e+10  \n2020-11-03  13723.362305  2.758245e+10  \n\n[360 rows x 7 columns]\n             symbol          Open          High           Low         Close  \\\nDate                                                                          \n2019-11-03  BTC-USD   9324.787109   9379.806641   9141.251953   9235.354492   \n2019-11-04  BTC-USD   9235.607422   9505.051758   9191.485352   9412.612305   \n2019-11-05  BTC-USD   9413.004883   9457.417969   9256.931641   9342.527344   \n2019-11-06  BTC-USD   9340.864258   9423.237305   9305.909180   9360.879883   \n2019-11-07  BTC-USD   9352.393555   9368.476563   9202.353516   9267.561523   \n...             ...           ...           ...           ...           ...   \n2020-10-30  BTC-USD  13437.874023  13651.516602  13136.198242  13546.522461   \n2020-10-31  BTC-USD  13546.532227  14028.213867  13457.530273  13780.995117   \n2020-11-01  BTC-USD  13780.995117  13862.033203  13628.377930  13737.109375   \n2020-11-02  BTC-USD           NaN           NaN           NaN           NaN   \n2020-11-03  BTC-USD  13507.269531  13769.055664  13335.282227  13723.362305   \n\n               Adj Close        Volume  \nDate                                    \n2019-11-03   9235.354492  2.113222e+10  \n2019-11-04   9412.612305  2.617026e+10  \n2019-11-05   9342.527344  2.619861e+10  \n2019-11-06   9360.879883  2.313390e+10  \n2019-11-07   9267.561523  2.270038e+10  \n...                  ...           ...  \n2020-10-30  13546.522461  3.058149e+10  \n2020-10-31  13780.995117  3.030646e+10  \n2020-11-01  13737.109375  2.445386e+10  \n2020-11-02           NaN           NaN  \n2020-11-03  13723.362305  2.758245e+10  \n\n[367 rows x 7 columns]\n"
     ]
    }
   ],
   "source": [
    "df1 = f.get_data()\n",
    "df2 = f.get_data_yh()\n",
    "\n",
    "print(df1)\n",
    "print(df2)"
   ]
  },
  {
   "cell_type": "code",
   "execution_count": null,
   "metadata": {},
   "outputs": [],
   "source": [
    "\n",
    "df = f.get_data(months=50)\n",
    "df = f.get_indicators(df)\n",
    "df = f.signal_to_position(df,'engulfing')#,side='long')\n",
    "# f.plot_signal(df,'position',lines=True, marker=7)\n",
    "# position = f.backtest(df,'position')\n",
    "f.plot_backtest(df, position='position',leverage=3)"
   ]
  },
  {
   "cell_type": "code",
   "execution_count": null,
   "metadata": {},
   "outputs": [],
   "source": [
    "\n",
    "# df = f.get_data()\n",
    "\n",
    "# f.chart(df,vol=True,)\n",
    "\n",
    "# #f.plot_morningstar('AMD',60)\n",
    "\n",
    "# #f.conect_data(['SPY','AAPL','TUP','CL'],'t')\n",
    "\n",
    "\n",
    "# # rsi = btalib.rsi(df)\n",
    "# # df['rsi'] = rsi.df\n",
    "# # df['rsi_signal'] = np.where(df['rsi'] > 75,-1,0)\n",
    "# # df['rsi_signal'] = np.where(df['rsi'] < 25,1,df['rsi_signal'])\n",
    "# # #f.plot_signal(df, 'rsi_signal')\n",
    "\n",
    "# # df = f.get_data('AMD',months=10,source='yahoo')\n",
    "# # ind = f.get_indicators(df)\n",
    "# # f.chart(ind,log=True,vol=True,MA=(20,50,100))\n",
    "# # f.plot_signal(ind,'morningstar',lines=True,marker=1)\n",
    "# # ind['position'] = np.where(ind['ma_fast'] > ind['ma_slow'], 1,0)\n",
    "# # ind['position'] = np.where(ind['ma_fast'] < ind['ma_slow'], -1,ind['position'])\n",
    "\n",
    "\n",
    "\n",
    "# data = f.get_data_()\n",
    "# data['price'] = data['Adj Close']\n",
    "# SMA = 25\n",
    "# data['SMA'] = data['price'].rolling(window=SMA).mean()\n",
    "# N = 1\n",
    "# data['STD'] = N*data['price'].rolling(window=SMA).std()\n",
    "# data['SMA+STD'] = data['SMA'] + data['STD']\n",
    "# data['SMA-STD'] = data['SMA'] - data['STD']\n",
    "# plt.style.use('seaborn')\n",
    "# #data[['price','SMA+STD','SMA-STD']].plot(figsize=(24,6))\n",
    "# data['position'] = np.where(data['price'] > data['SMA+STD'], -1,0)\n",
    "# data['position'] = np.where(data['price'] < data['SMA-STD'], 1,data['position'])\n",
    "\n",
    "# f.plot_signal(data,'position',lines=True,marker=1)\n",
    "\n",
    "\n",
    "\n",
    "# # ko_m5 = f.get_data_mt5('KO',bars=200,timeframe='M5')\n",
    "# # print(ko_m5)\n",
    "# # f.chart_(ko_m5,vol=True)\n",
    "# # f.backtrader(ko_m5,strategy=s.TestStrategy)\n",
    "# # f.get_order(symbol='KO',lot=1.0)\n",
    "\n",
    "\n",
    "# # symbols=['TSLA', 'AAPL', 'AMZN', 'NFLX']\n",
    "# # f.conect_data()\n",
    "\n",
    "\n",
    "\n",
    "\n",
    "df = f.get_data_yh(years=2,symbol='TSLA')\n",
    "df = f.get_indicators(df)\n",
    "# #print(df)\n",
    "df = f.signal_to_position(df,'engulfing',side='long')\n",
    "\n",
    "# #f.plot_signal(df,'morningstar',lines=True)\n",
    "f.plot_backtest(df, 'position',returns='simple',leverage=1)\n",
    "# # position = f.backtest(df,'position')\n",
    "# # f.plot_backtest(position)\n",
    "\n",
    "\n",
    "\n",
    "\n",
    "# # data =f.get_data_tensor(timeframe='4h',mode=2,symbol='ETHUSD',extra_data=True)\n",
    "# data = f.get_data_binance(symbol='BTCUSDT',start_time='2020-06-22', end_time='2020-06-25',interval_mins=60)\n",
    "# print(data)\n",
    "# f.chart(data,vol=True)\n"
   ]
  }
 ]
}